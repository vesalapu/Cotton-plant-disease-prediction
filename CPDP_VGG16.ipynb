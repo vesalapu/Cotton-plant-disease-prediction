{
  "nbformat": 4,
  "nbformat_minor": 0,
  "metadata": {
    "colab": {
      "name": "CPDP_VGG16.ipynb",
      "provenance": []
    },
    "kernelspec": {
      "name": "python3",
      "display_name": "Python 3"
    },
    "language_info": {
      "name": "python"
    },
    "accelerator": "GPU"
  },
  "cells": [
    {
      "cell_type": "code",
      "metadata": {
        "colab": {
          "base_uri": "https://localhost:8080/"
        },
        "id": "I6DqeGPmbbg2",
        "outputId": "b530ca35-cd6a-452f-8e86-e6f14ba5fd6d"
      },
      "source": [
        "from google.colab import drive\n",
        "drive.mount('/content/drive')"
      ],
      "execution_count": 1,
      "outputs": [
        {
          "output_type": "stream",
          "text": [
            "Mounted at /content/drive\n"
          ],
          "name": "stdout"
        }
      ]
    },
    {
      "cell_type": "code",
      "metadata": {
        "id": "Q9X4WaulcVIZ"
      },
      "source": [
        "import os\n",
        "import glob\n",
        "import numpy as np\n",
        "import pandas as pd\n",
        "from PIL import Image\n",
        "from zipfile import ZipFile\n",
        "from matplotlib import pyplot as plt"
      ],
      "execution_count": 2,
      "outputs": []
    },
    {
      "cell_type": "code",
      "metadata": {
        "id": "xyGEfJhwfPxv"
      },
      "source": [
        "import tensorflow as tf\n"
      ],
      "execution_count": 3,
      "outputs": []
    },
    {
      "cell_type": "code",
      "metadata": {
        "colab": {
          "base_uri": "https://localhost:8080/"
        },
        "id": "ZYwf4vsQckfJ",
        "outputId": "7308f5ba-d51c-4a34-c675-ea795fe34d43"
      },
      "source": [
        "datagen = tf.keras.preprocessing.image.ImageDataGenerator(\n",
        "    rescale = 1/255.,\n",
        "    shear_range=0.2,\n",
        "    zoom_range=0.2,\n",
        "    horizontal_flip = True,\n",
        "    vertical_flip = True,\n",
        "    validation_split = 0.2\n",
        ")\n",
        "\n",
        "train = datagen.flow_from_directory(\n",
        "    '/content/drive/MyDrive/Cotton plant disease prediction/train',\n",
        "    seed = 80,\n",
        "    subset = 'training',\n",
        "    batch_size = 32\n",
        ")\n",
        "\n",
        "valid = datagen.flow_from_directory(\n",
        "    '/content/drive/MyDrive/Cotton plant disease prediction/val',\n",
        "    seed = 80,\n",
        "    subset = 'validation',\n",
        "    batch_size = 32\n",
        ")"
      ],
      "execution_count": 4,
      "outputs": [
        {
          "output_type": "stream",
          "text": [
            "Found 1562 images belonging to 4 classes.\n",
            "Found 64 images belonging to 4 classes.\n"
          ],
          "name": "stdout"
        }
      ]
    },
    {
      "cell_type": "code",
      "metadata": {
        "colab": {
          "base_uri": "https://localhost:8080/"
        },
        "id": "DxFzCg2hfXlm",
        "outputId": "43e96833-80f5-49d4-dc89-19c74507bfee"
      },
      "source": [
        "from tensorflow.keras.applications.vgg16 import VGG16\n",
        "layer = tf.keras.layers.Input(shape=(None, None, 3))\n",
        "vgg16 = VGG16(include_top=False, weights='imagenet', input_tensor=layer)\n",
        "\n",
        "for layer in vgg16.layers:\n",
        "    layer.trainable = False\n",
        "\n",
        "x = tf.keras.layers.GlobalMaxPooling2D()(vgg16.output)\n",
        "flatten = tf.keras.layers.Flatten()(x)\n",
        "output = tf.keras.layers.Dense(4, activation='softmax')(flatten)\n",
        "\n",
        "model = tf.keras.models.Model(inputs=vgg16.inputs, outputs=output)"
      ],
      "execution_count": 5,
      "outputs": [
        {
          "output_type": "stream",
          "text": [
            "Downloading data from https://storage.googleapis.com/tensorflow/keras-applications/vgg16/vgg16_weights_tf_dim_ordering_tf_kernels_notop.h5\n",
            "58892288/58889256 [==============================] - 1s 0us/step\n"
          ],
          "name": "stdout"
        }
      ]
    },
    {
      "cell_type": "code",
      "metadata": {
        "id": "H9K3D6pAgHNO"
      },
      "source": [
        "e_s = tf.keras.callbacks.EarlyStopping(monitor='val_accuracy', mode='max', patience=10, verbose=0)\n",
        "checkpoint = tf.keras.callbacks.ModelCheckpoint('model_weights.hdf5', monitor='val_accuracy', mode='max', save_weights_only=True, verbose=0)\n",
        "\n",
        "callbacks = [checkpoint, e_s]"
      ],
      "execution_count": 6,
      "outputs": []
    },
    {
      "cell_type": "code",
      "metadata": {
        "id": "MvLn1GwNgVhf"
      },
      "source": [
        "optimizer = tf.keras.optimizers.Adam(learning_rate=0.0001)\n",
        "\n",
        "model.compile(optimizer=optimizer, loss='CategoricalCrossentropy', metrics=['accuracy'])"
      ],
      "execution_count": 7,
      "outputs": []
    },
    {
      "cell_type": "code",
      "metadata": {
        "colab": {
          "base_uri": "https://localhost:8080/"
        },
        "id": "vHicKmDYga57",
        "outputId": "db4d7f51-13d7-44a4-e919-8ecdab1f6c51"
      },
      "source": [
        "model.summary()"
      ],
      "execution_count": 8,
      "outputs": [
        {
          "output_type": "stream",
          "text": [
            "Model: \"model\"\n",
            "_________________________________________________________________\n",
            "Layer (type)                 Output Shape              Param #   \n",
            "=================================================================\n",
            "input_1 (InputLayer)         [(None, None, None, 3)]   0         \n",
            "_________________________________________________________________\n",
            "block1_conv1 (Conv2D)        (None, None, None, 64)    1792      \n",
            "_________________________________________________________________\n",
            "block1_conv2 (Conv2D)        (None, None, None, 64)    36928     \n",
            "_________________________________________________________________\n",
            "block1_pool (MaxPooling2D)   (None, None, None, 64)    0         \n",
            "_________________________________________________________________\n",
            "block2_conv1 (Conv2D)        (None, None, None, 128)   73856     \n",
            "_________________________________________________________________\n",
            "block2_conv2 (Conv2D)        (None, None, None, 128)   147584    \n",
            "_________________________________________________________________\n",
            "block2_pool (MaxPooling2D)   (None, None, None, 128)   0         \n",
            "_________________________________________________________________\n",
            "block3_conv1 (Conv2D)        (None, None, None, 256)   295168    \n",
            "_________________________________________________________________\n",
            "block3_conv2 (Conv2D)        (None, None, None, 256)   590080    \n",
            "_________________________________________________________________\n",
            "block3_conv3 (Conv2D)        (None, None, None, 256)   590080    \n",
            "_________________________________________________________________\n",
            "block3_pool (MaxPooling2D)   (None, None, None, 256)   0         \n",
            "_________________________________________________________________\n",
            "block4_conv1 (Conv2D)        (None, None, None, 512)   1180160   \n",
            "_________________________________________________________________\n",
            "block4_conv2 (Conv2D)        (None, None, None, 512)   2359808   \n",
            "_________________________________________________________________\n",
            "block4_conv3 (Conv2D)        (None, None, None, 512)   2359808   \n",
            "_________________________________________________________________\n",
            "block4_pool (MaxPooling2D)   (None, None, None, 512)   0         \n",
            "_________________________________________________________________\n",
            "block5_conv1 (Conv2D)        (None, None, None, 512)   2359808   \n",
            "_________________________________________________________________\n",
            "block5_conv2 (Conv2D)        (None, None, None, 512)   2359808   \n",
            "_________________________________________________________________\n",
            "block5_conv3 (Conv2D)        (None, None, None, 512)   2359808   \n",
            "_________________________________________________________________\n",
            "block5_pool (MaxPooling2D)   (None, None, None, 512)   0         \n",
            "_________________________________________________________________\n",
            "global_max_pooling2d (Global (None, 512)               0         \n",
            "_________________________________________________________________\n",
            "flatten (Flatten)            (None, 512)               0         \n",
            "_________________________________________________________________\n",
            "dense (Dense)                (None, 4)                 2052      \n",
            "=================================================================\n",
            "Total params: 14,716,740\n",
            "Trainable params: 2,052\n",
            "Non-trainable params: 14,714,688\n",
            "_________________________________________________________________\n"
          ],
          "name": "stdout"
        }
      ]
    },
    {
      "cell_type": "code",
      "metadata": {
        "colab": {
          "base_uri": "https://localhost:8080/"
        },
        "id": "j4_VC2g_gfeS",
        "outputId": "c14d9a85-f84f-41c9-c7cd-414261a62633"
      },
      "source": [
        "history = model.fit(train, validation_data=valid, epochs=100, batch_size=64, callbacks=callbacks)"
      ],
      "execution_count": 9,
      "outputs": [
        {
          "output_type": "stream",
          "text": [
            "Epoch 1/100\n",
            "49/49 [==============================] - 492s 9s/step - loss: 1.7474 - accuracy: 0.4014 - val_loss: 1.6510 - val_accuracy: 0.2500\n",
            "Epoch 2/100\n",
            "49/49 [==============================] - 32s 652ms/step - loss: 1.4404 - accuracy: 0.3771 - val_loss: 1.4718 - val_accuracy: 0.3125\n",
            "Epoch 3/100\n",
            "49/49 [==============================] - 32s 649ms/step - loss: 1.3881 - accuracy: 0.4104 - val_loss: 1.4352 - val_accuracy: 0.2969\n",
            "Epoch 4/100\n",
            "49/49 [==============================] - 32s 647ms/step - loss: 1.3198 - accuracy: 0.4398 - val_loss: 1.3682 - val_accuracy: 0.3594\n",
            "Epoch 5/100\n",
            "49/49 [==============================] - 32s 648ms/step - loss: 1.2614 - accuracy: 0.4738 - val_loss: 1.3931 - val_accuracy: 0.4062\n",
            "Epoch 6/100\n",
            "49/49 [==============================] - 32s 648ms/step - loss: 1.2143 - accuracy: 0.4910 - val_loss: 1.2607 - val_accuracy: 0.3750\n",
            "Epoch 7/100\n",
            "49/49 [==============================] - 32s 650ms/step - loss: 1.1647 - accuracy: 0.5250 - val_loss: 1.2212 - val_accuracy: 0.4688\n",
            "Epoch 8/100\n",
            "49/49 [==============================] - 32s 650ms/step - loss: 1.1099 - accuracy: 0.5499 - val_loss: 1.1475 - val_accuracy: 0.5000\n",
            "Epoch 9/100\n",
            "49/49 [==============================] - 32s 647ms/step - loss: 1.0835 - accuracy: 0.5525 - val_loss: 1.1523 - val_accuracy: 0.5469\n",
            "Epoch 10/100\n",
            "49/49 [==============================] - 32s 649ms/step - loss: 1.0419 - accuracy: 0.5698 - val_loss: 1.1314 - val_accuracy: 0.4375\n",
            "Epoch 11/100\n",
            "49/49 [==============================] - 32s 650ms/step - loss: 1.0209 - accuracy: 0.5787 - val_loss: 1.0346 - val_accuracy: 0.5312\n",
            "Epoch 12/100\n",
            "49/49 [==============================] - 32s 650ms/step - loss: 0.9933 - accuracy: 0.5960 - val_loss: 1.0232 - val_accuracy: 0.5469\n",
            "Epoch 13/100\n",
            "49/49 [==============================] - 32s 648ms/step - loss: 0.9516 - accuracy: 0.6120 - val_loss: 0.9858 - val_accuracy: 0.5469\n",
            "Epoch 14/100\n",
            "49/49 [==============================] - 32s 649ms/step - loss: 0.9246 - accuracy: 0.6204 - val_loss: 1.0661 - val_accuracy: 0.5625\n",
            "Epoch 15/100\n",
            "49/49 [==============================] - 32s 651ms/step - loss: 0.8985 - accuracy: 0.6434 - val_loss: 1.0350 - val_accuracy: 0.5312\n",
            "Epoch 16/100\n",
            "49/49 [==============================] - 32s 649ms/step - loss: 0.8862 - accuracy: 0.6556 - val_loss: 0.9705 - val_accuracy: 0.5781\n",
            "Epoch 17/100\n",
            "49/49 [==============================] - 32s 648ms/step - loss: 0.8597 - accuracy: 0.6626 - val_loss: 0.9738 - val_accuracy: 0.5625\n",
            "Epoch 18/100\n",
            "49/49 [==============================] - 32s 649ms/step - loss: 0.8446 - accuracy: 0.6741 - val_loss: 0.9257 - val_accuracy: 0.5938\n",
            "Epoch 19/100\n",
            "49/49 [==============================] - 32s 650ms/step - loss: 0.8196 - accuracy: 0.6761 - val_loss: 0.9279 - val_accuracy: 0.6406\n",
            "Epoch 20/100\n",
            "49/49 [==============================] - 32s 652ms/step - loss: 0.8049 - accuracy: 0.7061 - val_loss: 0.9288 - val_accuracy: 0.5625\n",
            "Epoch 21/100\n",
            "49/49 [==============================] - 32s 652ms/step - loss: 0.7895 - accuracy: 0.7010 - val_loss: 0.8974 - val_accuracy: 0.6250\n",
            "Epoch 22/100\n",
            "49/49 [==============================] - 32s 650ms/step - loss: 0.7697 - accuracy: 0.7119 - val_loss: 0.8818 - val_accuracy: 0.6250\n",
            "Epoch 23/100\n",
            "49/49 [==============================] - 32s 648ms/step - loss: 0.7465 - accuracy: 0.7305 - val_loss: 0.8219 - val_accuracy: 0.6719\n",
            "Epoch 24/100\n",
            "49/49 [==============================] - 32s 647ms/step - loss: 0.7567 - accuracy: 0.7132 - val_loss: 0.8476 - val_accuracy: 0.6719\n",
            "Epoch 25/100\n",
            "49/49 [==============================] - 32s 655ms/step - loss: 0.7351 - accuracy: 0.7356 - val_loss: 0.8389 - val_accuracy: 0.6406\n",
            "Epoch 26/100\n",
            "49/49 [==============================] - 33s 677ms/step - loss: 0.7183 - accuracy: 0.7401 - val_loss: 0.8222 - val_accuracy: 0.6719\n",
            "Epoch 27/100\n",
            "49/49 [==============================] - 34s 697ms/step - loss: 0.7053 - accuracy: 0.7599 - val_loss: 0.8482 - val_accuracy: 0.6562\n",
            "Epoch 28/100\n",
            "49/49 [==============================] - 32s 659ms/step - loss: 0.7060 - accuracy: 0.7420 - val_loss: 0.7504 - val_accuracy: 0.6719\n",
            "Epoch 29/100\n",
            "49/49 [==============================] - 33s 676ms/step - loss: 0.6980 - accuracy: 0.7490 - val_loss: 0.7572 - val_accuracy: 0.6719\n",
            "Epoch 30/100\n",
            "49/49 [==============================] - 33s 665ms/step - loss: 0.6848 - accuracy: 0.7625 - val_loss: 0.7993 - val_accuracy: 0.7188\n",
            "Epoch 31/100\n",
            "49/49 [==============================] - 32s 652ms/step - loss: 0.6612 - accuracy: 0.7836 - val_loss: 0.7397 - val_accuracy: 0.7031\n",
            "Epoch 32/100\n",
            "49/49 [==============================] - 32s 653ms/step - loss: 0.6589 - accuracy: 0.7708 - val_loss: 0.7733 - val_accuracy: 0.7188\n",
            "Epoch 33/100\n",
            "49/49 [==============================] - 33s 678ms/step - loss: 0.6475 - accuracy: 0.7746 - val_loss: 0.7188 - val_accuracy: 0.7188\n",
            "Epoch 34/100\n",
            "49/49 [==============================] - 34s 693ms/step - loss: 0.6376 - accuracy: 0.7913 - val_loss: 0.7677 - val_accuracy: 0.7031\n",
            "Epoch 35/100\n",
            "49/49 [==============================] - 34s 691ms/step - loss: 0.6416 - accuracy: 0.7766 - val_loss: 0.7529 - val_accuracy: 0.6562\n",
            "Epoch 36/100\n",
            "49/49 [==============================] - 34s 690ms/step - loss: 0.6256 - accuracy: 0.7810 - val_loss: 0.7364 - val_accuracy: 0.7656\n",
            "Epoch 37/100\n",
            "49/49 [==============================] - 34s 687ms/step - loss: 0.6144 - accuracy: 0.8060 - val_loss: 0.7560 - val_accuracy: 0.7188\n",
            "Epoch 38/100\n",
            "49/49 [==============================] - 33s 674ms/step - loss: 0.5983 - accuracy: 0.8041 - val_loss: 0.7292 - val_accuracy: 0.7031\n",
            "Epoch 39/100\n",
            "49/49 [==============================] - 33s 667ms/step - loss: 0.6004 - accuracy: 0.7971 - val_loss: 0.7190 - val_accuracy: 0.7188\n",
            "Epoch 40/100\n",
            "49/49 [==============================] - 34s 693ms/step - loss: 0.6078 - accuracy: 0.7875 - val_loss: 0.7485 - val_accuracy: 0.6875\n",
            "Epoch 41/100\n",
            "49/49 [==============================] - 33s 672ms/step - loss: 0.5884 - accuracy: 0.8086 - val_loss: 0.7300 - val_accuracy: 0.6875\n",
            "Epoch 42/100\n",
            "49/49 [==============================] - 33s 672ms/step - loss: 0.5821 - accuracy: 0.8015 - val_loss: 0.7362 - val_accuracy: 0.6875\n",
            "Epoch 43/100\n",
            "49/49 [==============================] - 33s 671ms/step - loss: 0.5704 - accuracy: 0.8015 - val_loss: 0.7272 - val_accuracy: 0.7031\n",
            "Epoch 44/100\n",
            "49/49 [==============================] - 33s 670ms/step - loss: 0.5713 - accuracy: 0.8169 - val_loss: 0.6958 - val_accuracy: 0.7344\n",
            "Epoch 45/100\n",
            "49/49 [==============================] - 33s 667ms/step - loss: 0.5799 - accuracy: 0.8047 - val_loss: 0.6737 - val_accuracy: 0.7500\n",
            "Epoch 46/100\n",
            "49/49 [==============================] - 33s 667ms/step - loss: 0.5662 - accuracy: 0.8227 - val_loss: 0.6883 - val_accuracy: 0.7344\n"
          ],
          "name": "stdout"
        }
      ]
    },
    {
      "cell_type": "code",
      "metadata": {
        "id": "by1KbLTzl7jx"
      },
      "source": [
        "tf.keras.models.save_model(model,'vgg16.hdf5')"
      ],
      "execution_count": 10,
      "outputs": []
    },
    {
      "cell_type": "code",
      "metadata": {
        "colab": {
          "base_uri": "https://localhost:8080/",
          "height": 295
        },
        "id": "PftXhpOamCxM",
        "outputId": "9d4672bb-2299-4bda-ce22-830a7b1c3f2f"
      },
      "source": [
        "plt.plot(history.history['accuracy'])\n",
        "plt.plot(history.history['val_accuracy'])\n",
        "plt.title('model accuracy')\n",
        "plt.ylabel('accuracy')\n",
        "plt.xlabel('epochs')\n",
        "plt.legend(['train', 'test'], loc='upper left')\n",
        "plt.show()"
      ],
      "execution_count": 11,
      "outputs": [
        {
          "output_type": "display_data",
          "data": {
            "image/png": "[encoded data removed]",
            "text/plain": [
              "<Figure size 432x288 with 1 Axes>"
            ]
          },
          "metadata": {
            "tags": [],
            "needs_background": "light"
          }
        }
      ]
    },
    {
      "cell_type": "code",
      "metadata": {
        "colab": {
          "base_uri": "https://localhost:8080/",
          "height": 295
        },
        "id": "RYXL8kRDmH4i",
        "outputId": "bebaf173-3809-46fd-b68e-671c3f9970e9"
      },
      "source": [
        "plt.plot(history.history['loss'])\n",
        "plt.plot(history.history['val_loss'])\n",
        "plt.title('model loss')\n",
        "plt.ylabel('loss')\n",
        "plt.xlabel('epoch')\n",
        "plt.legend(['train', 'test'], loc='upper left')\n",
        "plt.show()"
      ],
      "execution_count": 12,
      "outputs": [
        {
          "output_type": "display_data",
          "data": {
            "image/png": "[encoded data removed]",
            "text/plain": [
              "<Figure size 432x288 with 1 Axes>"
            ]
          },
          "metadata": {
            "tags": [],
            "needs_background": "light"
          }
        }
      ]
    }
  ]
}